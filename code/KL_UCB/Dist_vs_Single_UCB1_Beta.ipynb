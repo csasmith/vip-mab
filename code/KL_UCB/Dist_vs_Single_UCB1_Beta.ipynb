{
 "cells": [
  {
   "cell_type": "code",
   "execution_count": null,
   "metadata": {},
   "outputs": [],
   "source": [
    "import numpy as np\n",
    "import matplotlib.pyplot as plt\n",
    "import matplotlib.style as style\n",
    "style.use('seaborn-colorblind')\n",
    "import scipy.stats as sps\n",
    "import networkx as nx\n",
    "from Dist_UCB1 import Dist_UCB1\n",
    "from UCB1 import UCB1\n",
    "import time\n",
    "import os\n",
    "from multiprocess import Pool\n",
    "\n",
    "n_runs = 100\n",
    "T = 10000\n",
    "N = 20\n",
    "rwd_means = [.2, .3, .4, .5, .6]\n",
    "\n",
    "seeds = []\n",
    "myseed = 0\n",
    "while len(seeds) < n_runs:\n",
    "    G = nx.fast_gnp_random_graph(N, 0.5, directed=False, seed=myseed)\n",
    "    if nx.is_connected(G):\n",
    "        seeds.append(myseed)\n",
    "    myseed += 1\n",
    "sd = 0.1\n",
    "single_agent_distributions = [sps.beta(rwd_means[i], 1-rwd_means[i]) for i in range(len(rwd_means))]\n",
    "for i in range(len(rwd_means)):\n",
    "    single_agent_distributions[i].random_state = np.random.RandomState(seed=1)\n",
    "distributions = [[sps.beta(rwd_means[i], 1-rwd_means[i]) for i in range(len(rwd_means))] for n in range(N)]\n",
    "for n in range(N):\n",
    "    for i in range(len(rwd_means)):\n",
    "        distributions[n][i].random_state = np.random.RandomState(seed=1)\n",
    "betas = [1, .1, .01]"
   ]
  },
  {
   "cell_type": "code",
   "execution_count": null,
   "metadata": {},
   "outputs": [],
   "source": [
    "def worker(job_runs, seeds, betas, T, N, distributions):\n",
    "    mean_regrets_dist_ucb1 = np.zeros((len(job_runs), len(betas), T))\n",
    "    regrets_ucb1 = np.zeros((len(job_runs), T))\n",
    "    for run in job_runs:\n",
    "        start_run_t = time.time()\n",
    "        G = nx.fast_gnp_random_graph(N, 0.5, directed=False, seed=seeds[run])\n",
    "        nodes = list(G.nodes)\n",
    "        for i in nodes:\n",
    "            G.add_edge(i,i) \n",
    "        for b in range(len(betas)):\n",
    "            distucb1 = Dist_UCB1(T, distributions, G, beta=betas[b])\n",
    "            distucb1.run()\n",
    "            mean_regrets_dist_ucb1[run-job_runs[0], b, :] = np.mean(distucb1.regrets, axis=0)\n",
    "        ucb1 = UCB1(T, single_agent_distributions)\n",
    "        ucb1.run()\n",
    "        regrets_ucb1[run-job_runs[0], :] = ucb1.regret\n",
    "        end_run_t = time.time()\n",
    "        print(f'finished run {run} in {end_run_t - start_run_t}sec')\n",
    "    return mean_regrets_dist_ucb1, regrets_ucb1"
   ]
  },
  {
   "cell_type": "code",
   "execution_count": null,
   "metadata": {},
   "outputs": [],
   "source": [
    "mean_regrets_dist_ucb1 = np.zeros((n_runs, len(betas), T))\n",
    "regrets_ucb1 = np.zeros((n_runs, T))\n",
    "cpus = os.cpu_count()\n",
    "init_time = time.time()\n",
    "\n",
    "pool = Pool()\n",
    "jobs = list(range(n_runs))\n",
    "job_size = n_runs // cpus\n",
    "job_chunks = [(jobs[i:i + job_size], seeds, betas, T, N, distributions) for i in range(0, len(jobs), job_size)]\n",
    "results = pool.starmap(worker, job_chunks)\n",
    "pool.close()\n",
    "pool.join()\n",
    "\n",
    "mean_regrets_dist_ucb1_unconcat = [result[0] for result in results]\n",
    "regrets_ucb1_unconcat = [result[1] for result in results]\n",
    "np.concatenate(mean_regrets_dist_ucb1_unconcat, out=mean_regrets_dist_ucb1)\n",
    "np.concatenate(regrets_ucb1_unconcat, out=regrets_ucb1)\n",
    "end_run_t = time.time()\n",
    "time_axis = list(range(T))\n",
    "mean_regrets_over_all_runs_dist_ucb1 = np.mean(mean_regrets_dist_ucb1, axis=0)\n",
    "mean_regrets_over_all_runs_ucb1 = np.mean(regrets_ucb1, axis=0)\n",
    "std_regrets_over_all_runs_dist_ucb1 = np.std(mean_regrets_dist_ucb1, axis=0)\n",
    "std_regrets_over_all_runs_ucb1 = np.std(regrets_ucb1, axis=0)\n",
    "print(f'Total run time = {end_run_t - init_time}sec')"
   ]
  },
  {
   "cell_type": "code",
   "execution_count": null,
   "metadata": {},
   "outputs": [],
   "source": [
    "plt.figure(figsize=(8,5))\n",
    "linestyles = ['-.', '-', '--']\n",
    "for b in range(len(betas)):\n",
    "    plt.plot(time_axis, mean_regrets_over_all_runs_dist_ucb1[b], linestyles[b], label=r\"$\\beta=$\" + str(betas[b]))\n",
    "    plt.fill_between(time_axis, mean_regrets_over_all_runs_dist_ucb1[b]-std_regrets_over_all_runs_dist_ucb1[b], mean_regrets_over_all_runs_dist_ucb1[b]+std_regrets_over_all_runs_dist_ucb1[b],alpha=.2)\n",
    "plt.plot(time_axis, mean_regrets_over_all_runs_ucb1, ':', label=\"Single Agent UCB1\")\n",
    "plt.fill_between(time_axis, mean_regrets_over_all_runs_ucb1-std_regrets_over_all_runs_ucb1, mean_regrets_over_all_runs_ucb1+std_regrets_over_all_runs_ucb1, alpha=.2)\n",
    "plt.xlabel(\"Time\")\n",
    "plt.ylabel(\"Regret\")\n",
    "plt.legend()\n",
    "plt.grid()\n",
    "plt.savefig(\"dist_UCB_vs_single_UCB.pdf\", bbox_inches='tight')"
   ]
  }
 ],
 "metadata": {
  "interpreter": {
   "hash": "b0fa6594d8f4cbf19f97940f81e996739fb7646882a419484c72d19e05852a7e"
  },
  "kernelspec": {
   "display_name": "Python 3 (ipykernel)",
   "language": "python",
   "name": "python3"
  },
  "language_info": {
   "codemirror_mode": {
    "name": "ipython",
    "version": 3
   },
   "file_extension": ".py",
   "mimetype": "text/x-python",
   "name": "python",
   "nbconvert_exporter": "python",
   "pygments_lexer": "ipython3",
   "version": "3.8.11"
  }
 },
 "nbformat": 4,
 "nbformat_minor": 2
}
