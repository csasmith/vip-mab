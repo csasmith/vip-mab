{
 "cells": [
  {
   "cell_type": "code",
   "execution_count": null,
   "metadata": {},
   "outputs": [],
   "source": [
    "import numpy as np\n",
    "import matplotlib.pyplot as plt\n",
    "import matplotlib.style as style\n",
    "style.use('seaborn-colorblind')\n",
    "import scipy.stats as sps\n",
    "import networkx as nx\n",
    "import time\n",
    "from Dist_KL_UCB import Dist_KL_UCB\n",
    "from KL_UCB import KL_UCB\n",
    "import os\n",
    "from multiprocess import Pool\n",
    "\n",
    "n_runs = 100\n",
    "T = 10000\n",
    "N = 20\n",
    "rwd_means = [.2, .3, .4, .5, .6]\n",
    "\n",
    "seeds = []\n",
    "myseed = 0\n",
    "while len(seeds) < n_runs:\n",
    "    G = nx.fast_gnp_random_graph(N, 0.5, directed=False, seed=myseed)\n",
    "    if nx.is_connected(G):\n",
    "        seeds.append(myseed)\n",
    "    myseed += 1\n",
    "sd = 0.1\n",
    "kl_distributions = [sps.truncnorm(a=(0-rwd_means[i])/sd, b=(1-rwd_means[i])/sd, loc=rwd_means[i], scale=sd) for i in range(len(rwd_means))]\n",
    "for i in range(len(rwd_means)):\n",
    "    kl_distributions[i].random_state = np.random.RandomState(seed=1)\n",
    "distributions = [[sps.truncnorm(a=(0-rwd_means[i])/sd, b=(1-rwd_means[i])/sd, loc=rwd_means[i], scale=sd) for i in range(len(rwd_means))] for n in range(N)]\n",
    "for n in range(N):\n",
    "    for i in range(len(rwd_means)):\n",
    "        distributions[n][i].random_state = np.random.RandomState(seed=1)\n",
    "sigmas = [1, .1, .01]"
   ]
  },
  {
   "cell_type": "code",
   "execution_count": null,
   "metadata": {},
   "outputs": [],
   "source": [
    "def worker(job_runs, seeds, sigmas, T, N, distributions):\n",
    "    mean_regrets_dist_kl_ucb = np.zeros((len(job_runs), len(sigmas), T))\n",
    "    regrets_kl_ucb = np.zeros((len(job_runs), T))\n",
    "    for run in job_runs:\n",
    "        start_run_t = time.time()\n",
    "        G = nx.fast_gnp_random_graph(N, 0.5, directed=False, seed=seeds[run])\n",
    "        nodes = list(G.nodes)\n",
    "        for i in nodes:\n",
    "            G.add_edge(i,i) \n",
    "        for b in range(len(sigmas)):\n",
    "            distkl = Dist_KL_UCB(T, distributions, G, sigma=sigmas[b])\n",
    "            distkl.run()\n",
    "            mean_regrets_dist_kl_ucb[run-job_runs[0], b, :] = np.mean(distkl.regrets, axis=0)\n",
    "        kl = KL_UCB(T, kl_distributions)\n",
    "        kl.run()\n",
    "        regrets_kl_ucb[run-job_runs[0], :] = kl.regret\n",
    "        end_run_t = time.time()\n",
    "        print(f'finished run {run} in {end_run_t - start_run_t}sec')\n",
    "    return mean_regrets_dist_kl_ucb, regrets_kl_ucb"
   ]
  },
  {
   "cell_type": "code",
   "execution_count": null,
   "metadata": {},
   "outputs": [],
   "source": [
    "mean_regrets_dist_kl_ucb = np.zeros((n_runs, len(sigmas), T))\n",
    "regrets_kl_ucb = np.zeros((n_runs, T))\n",
    "init_time = time.time()\n",
    "cpus = os.cpu_count()\n",
    "init_time = time.time()\n",
    "\n",
    "pool = Pool()\n",
    "jobs = list(range(n_runs))\n",
    "job_size = n_runs // cpus\n",
    "job_chunks = [(jobs[i:i + job_size], seeds, sigmas, T, N, distributions) for i in range(0, len(jobs), job_size)]\n",
    "results = pool.starmap(worker, job_chunks)\n",
    "pool.close()\n",
    "pool.join()\n",
    "mean_regrets_dist_kl_ucb_unconcat = [result[0] for result in results]\n",
    "regrets_kl_ucb_unconcat = [result[1] for result in results]\n",
    "np.concatenate(mean_regrets_dist_kl_ucb_unconcat, out=mean_regrets_dist_kl_ucb)\n",
    "np.concatenate(regrets_kl_ucb_unconcat, out=regrets_kl_ucb)\n",
    "\n",
    "end_run_t = time.time()\n",
    "\n",
    "time_axis = list(range(T))\n",
    "mean_regrets_over_all_runs_dist_kl_ucb = np.mean(mean_regrets_dist_kl_ucb, axis=0)\n",
    "mean_regrets_over_all_runs_kl_ucb = np.mean(regrets_kl_ucb, axis=0)\n",
    "std_regrets_over_all_runs_dist_kl_ucb = np.std(mean_regrets_dist_kl_ucb, axis=0)\n",
    "std_regrets_over_all_runs_kl_ucb = np.std(regrets_kl_ucb, axis=0)\n",
    "print(f'Total run time = {end_run_t - init_time}sec')"
   ]
  },
  {
   "cell_type": "code",
   "execution_count": null,
   "metadata": {},
   "outputs": [],
   "source": [
    "plt.figure(figsize=(8,5))\n",
    "linestyles = ['-.', '-', '--']\n",
    "for sig in range(len(sigmas)):\n",
    "    plt.plot(time_axis, mean_regrets_over_all_runs_dist_kl_ucb[sig], linestyles[sig], label=r\"$\\varsigma=$\" + str(sigmas[sig]))\n",
    "    plt.fill_between(time_axis, mean_regrets_over_all_runs_dist_kl_ucb[sig]-std_regrets_over_all_runs_dist_kl_ucb[sig], mean_regrets_over_all_runs_dist_kl_ucb[sig]+std_regrets_over_all_runs_dist_kl_ucb[sig],alpha=.2)\n",
    "plt.plot(time_axis, mean_regrets_over_all_runs_kl_ucb, ':', label=\"Single Agent KL-UCB\")\n",
    "plt.fill_between(time_axis, mean_regrets_over_all_runs_kl_ucb-std_regrets_over_all_runs_kl_ucb, mean_regrets_over_all_runs_kl_ucb+std_regrets_over_all_runs_kl_ucb, alpha=.2)\n",
    "plt.xlabel(\"Time\")\n",
    "plt.ylabel(\"Regret\")\n",
    "plt.legend()\n",
    "plt.grid()\n",
    "plt.savefig(\"dist_KL_vs_single_KL.pdf\", bbox_inches='tight')"
   ]
  }
 ],
 "metadata": {
  "interpreter": {
   "hash": "b0fa6594d8f4cbf19f97940f81e996739fb7646882a419484c72d19e05852a7e"
  },
  "kernelspec": {
   "display_name": "Python 3 (ipykernel)",
   "language": "python",
   "name": "python3"
  },
  "language_info": {
   "codemirror_mode": {
    "name": "ipython",
    "version": 3
   },
   "file_extension": ".py",
   "mimetype": "text/x-python",
   "name": "python",
   "nbconvert_exporter": "python",
   "pygments_lexer": "ipython3",
   "version": "3.8.11"
  }
 },
 "nbformat": 4,
 "nbformat_minor": 2
}
