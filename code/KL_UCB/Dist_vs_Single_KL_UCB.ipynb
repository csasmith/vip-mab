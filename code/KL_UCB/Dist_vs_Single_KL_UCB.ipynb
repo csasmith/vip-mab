{
 "cells": [
  {
   "cell_type": "code",
   "execution_count": 6,
   "metadata": {},
   "outputs": [],
   "source": [
    "import numpy as np\n",
    "import matplotlib.pyplot as plt\n",
    "import scipy.stats as sps\n",
    "import networkx as nx\n",
    "from Dist_KL_UCB import Dist_KL_UCB\n",
    "from KL_UCB import KL_UCB\n",
    "from Dist_UCB1 import Dist_UCB1\n",
    "\n",
    "n_runs = 5\n",
    "T = 2000\n",
    "N = 5\n",
    "rwd_means = [.2, .3, .4, .5, .6]\n",
    "kl_distributions = [sps.uniform(loc=rwd_means[i] - .1, scale=0.2) for i in range(len(rwd_means))]\n",
    "distributions = [[sps.uniform(loc=rwd_means[i] - .1, scale=0.2) for i in range(len(rwd_means))] for n in range(N)]\n",
    "sigmas = [1, .1, .01]"
   ]
  },
  {
   "cell_type": "code",
   "execution_count": null,
   "metadata": {},
   "outputs": [],
   "source": [
    "mean_regrets_dist_kl_ucb = np.zeros((n_runs, len(sigmas), T))\n",
    "regrets_kl_ucb = np.zeros((n_runs, T))\n",
    "for run in range(n_runs):\n",
    "    G = nx.fast_gnp_random_graph(N, 0.5, directed=False)\n",
    "    while not nx.is_connected(G):\n",
    "        G = nx.fast_gnp_random_graph(N, 0.5, directed=False)\n",
    "    nodes = list(G.nodes)\n",
    "    for i in nodes:\n",
    "        G.add_edge(i,i) \n",
    "    for sig in range(len(sigmas)):\n",
    "        distkl = Dist_KL_UCB(T, distributions, G, sigma=sigmas[sig])\n",
    "        distkl.run()\n",
    "        mean_regrets_dist_kl_ucb[run, sig, :] = np.mean(distkl.regrets, axis=0)\n",
    "\n",
    "    kl = KL_UCB(T, kl_distributions)\n",
    "    kl.run()\n",
    "    regrets_kl_ucb[run, :] = kl.regret\n",
    "\n",
    "time_axis = list(range(distkl.T))\n",
    "mean_regrets_over_all_runs_dist_kl_ucb = np.mean(mean_regrets_dist_kl_ucb, axis=0)\n",
    "mean_regrets_over_all_runs_kl_ucb = np.mean(regrets_kl_ucb, axis=0)\n",
    "for sig in range(len(sigmas)):\n",
    "    plt.plot(time_axis, mean_regrets_over_all_runs_dist_kl_ucb[sig], label=r\"$\\varsigma=$\" + str(sigmas[sig]))\n",
    "plt.plot(time_axis, mean_regrets_over_all_runs_kl_ucb, label=\"Single Agent KL-UCB\")\n",
    "plt.xlabel(\"Time\")\n",
    "plt.ylabel(\"Regret\")\n",
    "plt.legend()\n",
    "plt.show()"
   ]
  },
  {
   "cell_type": "code",
   "execution_count": null,
   "metadata": {},
   "outputs": [],
   "source": []
  }
 ],
 "metadata": {
  "kernelspec": {
   "display_name": "Python 3",
   "language": "python",
   "name": "python3"
  },
  "language_info": {
   "codemirror_mode": {
    "name": "ipython",
    "version": 3
   },
   "file_extension": ".py",
   "mimetype": "text/x-python",
   "name": "python",
   "nbconvert_exporter": "python",
   "pygments_lexer": "ipython3",
   "version": "3.7.4"
  }
 },
 "nbformat": 4,
 "nbformat_minor": 2
}
