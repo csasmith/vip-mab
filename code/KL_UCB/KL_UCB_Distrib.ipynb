{
 "cells": [
  {
   "cell_type": "code",
   "execution_count": 7,
   "metadata": {},
   "outputs": [],
   "source": [
    "import numpy as np\n",
    "import networkx as nx\n",
    "rng = np.random.default_rng(1)"
   ]
  },
  {
   "cell_type": "code",
   "execution_count": 8,
   "metadata": {},
   "outputs": [],
   "source": [
    "def KL(p, q): # compute Kullback-Leibler divergence (d in paper). check edge cases.\n",
    "    if (p == 0 and q == 0) or (p == 1 and q == 1) or p == 0:\n",
    "        return 0\n",
    "    elif q == 0 or q == 1:\n",
    "        return np.inf\n",
    "    else:\n",
    "        return p*np.log(p/q) + (1-p)*np.log((1-p)/(1-q))\n",
    "\n",
    "def dKL(p, q): # derivative of KL wrt q, p is constant\n",
    "    result = (p-q)/(q*(q - 1.0))\n",
    "    return result\n",
    "\n",
    "def newton(N, z, k, t, Q, precision = 1e-3, max_iterations = 50, epsilon=1e-6):\n",
    "    p = z # from paper\n",
    "#     print(f't={t}, p={p}')\n",
    "    delta = 0.1\n",
    "    q0 = min(p + delta, 1-epsilon) # initial guess\n",
    "    q = q0\n",
    "    converged = False\n",
    "\n",
    "    for n in range(max_iterations):\n",
    "#         if (p / q <= 0 or (1-p)/(1-q) <= 0): # sanity check for log domain errors\n",
    "#             print(f'log error: p={p}, q={q}, n={n}')\n",
    "        f = KL(p, q) - Q/N # rearrange upper confidence bound eqn\n",
    "        df = dKL(p, q) # derivative of f is just derivative of KL\n",
    "        \n",
    "        if abs(df) < epsilon: break# check denominator is not too small\n",
    "        \n",
    "        qnew = max(q0, min(q - (f / df), 1-epsilon)) # chris: my approach for keeping q in (p,1)\n",
    "#         print(f'q={q}, f(q)={f}, qnew={qnew}, precision={precision} n={n}')\n",
    "        if(abs(qnew - q) < precision and abs(f) < precision): # check for early convergence\n",
    "            converged = True\n",
    "#             print(f'converged at {n} iterations')\n",
    "            break\n",
    "        q = qnew\n",
    "    \n",
    "#     if (not converged): print(f'did not converge')\n",
    "\n",
    "    return q"
   ]
  },
  {
   "cell_type": "code",
   "execution_count": 9,
   "metadata": {},
   "outputs": [],
   "source": [
    "rwd_means = [.2, .3, .4, .5, .6]\n",
    "T = 1000\n",
    "N = 4 # agents\n",
    "M = 5 # arms\n",
    "n = np.ones((N,M,T))\n",
    "m = np.ones((N,M,T))\n",
    "z = np.zeros((N,M,T))\n",
    "x = np.zeros((N,M,T))\n",
    "\n",
    "G = nx.fast_gnp_random_graph(N, 0.5,directed=False) # undirected\n",
    "while not nx.is_connected(G):\n",
    "    G = nx.fast_gnp_random_graph(N, 0.5,directed=False)\n",
    "nodes = list(G.nodes)\n",
    "for i in nodes:\n",
    "    G.add_edge(i,i)\n",
    "A = nx.adjacency_matrix(G)\n",
    "a = A.toarray() # make adjacency matrix an array for ease of use\n",
    "neighbors = [] # list of all agents' neighbors\n",
    "for i in range(len(a)):\n",
    "    curr_neighbors = [] # neighbors of current agent\n",
    "    for j in range(len(a)):\n",
    "        if a[j][i] == 1:\n",
    "            curr_neighbors.append(j)\n",
    "    neighbors.append(curr_neighbors)\n",
    "num_neighbors = [sum(A.toarray()[:,i]) for i in range(N)] # get cardinality of neighbors for each agentach agent"
   ]
  },
  {
   "cell_type": "code",
   "execution_count": 10,
   "metadata": {
    "scrolled": false
   },
   "outputs": [],
   "source": [
    "def Q(t, sigma, Ni):\n",
    "    if (t > 1): return 3*(1+sigma)*(np.log(t) + 3*np.log(np.log(t)))/(2*Ni)\n",
    "    return 0\n",
    "    \n",
    "# initialize a NxN weights matrix\n",
    "W = np.zeros((N,N)) # W[i][j] is weight w_i,j\n",
    "for agent in range(N):\n",
    "    for neighbor in neighbors[agent]:\n",
    "        if (agent != neighbor):\n",
    "            W[agent][neighbor] = 1 / max(num_neighbors[agent], num_neighbors[neighbor])\n",
    "        else:\n",
    "            s = 0\n",
    "            for nbor in neighbors[agent]:\n",
    "                if (nbor != agent): s += 1 / max(num_neighbors[agent], num_neighbors[nbor])\n",
    "            W[agent][neighbor] = 1 - s\n",
    "# print(f'weights W:\\n {W}')   \n",
    "\n",
    "for agent in range(N):\n",
    "    for arm in range(M):\n",
    "        val = rng.uniform(rwd_means[arm]-.1, rwd_means[arm]+.1)\n",
    "        z[agent, arm, 0] = val\n",
    "        x[agent, arm, 0] = val\n",
    "    \n",
    "        \n",
    "# print(f't=0, z is:\\n {z[:,:,0]}')\n",
    "\n",
    "for t in range(1,T-1):\n",
    "    for agent in range(N):\n",
    "        A = set()\n",
    "        for k in range(M):\n",
    "            if n[agent, k, t-1] <= m[agent, k, t-1] - M:\n",
    "                A.add(k)\n",
    "        if len(A) == 0:\n",
    "            a = np.argmax([newton(n[agent, arm, t-1], z[agent, arm, t-1], arm, t-1, Q(t-1, 1, num_neighbors[agent])) for arm in range(M)])\n",
    "        else:\n",
    "            a = rng.choice(tuple(A))\n",
    "        rwd = rng.uniform(rwd_means[a]-.1, rwd_means[a]+.1)\n",
    "#         print(f'rwd={rwd}')\n",
    "        for arm in range(M):\n",
    "            if arm == a:\n",
    "                n[agent, arm, t] = n[agent, arm, t-1] + 1\n",
    "            else:\n",
    "                n[agent, arm, t] = n[agent, arm, t-1]\n",
    "            x[agent, arm, t] = ((n[agent, arm, t-1] * x[agent, arm, t-1]) + rwd * (arm == a)) / n[agent, arm , t]\n",
    "            z[agent, arm, t] = np.sum([W[agent][j] * z[j, arm, t-1] for j in neighbors[agent]]) + x[agent, arm, t] - x[agent, arm, t-1]\n",
    "            m[agent, arm, t] = max(n[agent, arm, t], *[m[j, arm, t-1] for j in neighbors[agent]])\n",
    "#     print(f't={t}, z is:\\n {z[:,:,t]}')\n",
    "#     print(f't={t}, x is:\\n {x[:,:,t]}')\n",
    "                "
   ]
  },
  {
   "cell_type": "code",
   "execution_count": 16,
   "metadata": {},
   "outputs": [
    {
     "data": {
      "text/plain": [
       "array([[ 24.,  33.,  54., 113., 791.],\n",
       "       [ 24.,  33.,  54., 113., 790.],\n",
       "       [ 24.,  33.,  54., 113., 790.],\n",
       "       [ 24.,  33.,  54., 113., 790.]])"
      ]
     },
     "execution_count": 16,
     "metadata": {},
     "output_type": "execute_result"
    }
   ],
   "source": [
    "m[:,:,T-2]"
   ]
  },
  {
   "cell_type": "code",
   "execution_count": 14,
   "metadata": {},
   "outputs": [
    {
     "data": {
      "text/plain": [
       "array([[0.19998755, 0.29547643, 0.39899148, 0.50181163, 0.59943931],\n",
       "       [0.19998755, 0.29547643, 0.39899148, 0.50181163, 0.5992594 ],\n",
       "       [0.19998755, 0.29547643, 0.39899148, 0.50181163, 0.59933731],\n",
       "       [0.19998755, 0.29547643, 0.39899148, 0.50181163, 0.59938183]])"
      ]
     },
     "execution_count": 14,
     "metadata": {},
     "output_type": "execute_result"
    }
   ],
   "source": [
    "z[:,:,T-2]"
   ]
  },
  {
   "cell_type": "code",
   "execution_count": null,
   "metadata": {},
   "outputs": [],
   "source": []
  },
  {
   "cell_type": "code",
   "execution_count": null,
   "metadata": {},
   "outputs": [],
   "source": []
  }
 ],
 "metadata": {
  "kernelspec": {
   "display_name": "Python 3 (ipykernel)",
   "language": "python",
   "name": "python3"
  },
  "language_info": {
   "codemirror_mode": {
    "name": "ipython",
    "version": 3
   },
   "file_extension": ".py",
   "mimetype": "text/x-python",
   "name": "python",
   "nbconvert_exporter": "python",
   "pygments_lexer": "ipython3",
   "version": "3.9.10"
  }
 },
 "nbformat": 4,
 "nbformat_minor": 2
}
