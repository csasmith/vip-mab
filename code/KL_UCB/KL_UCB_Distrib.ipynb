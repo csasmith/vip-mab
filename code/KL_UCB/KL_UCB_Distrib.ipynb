{
 "cells": [
  {
   "cell_type": "code",
   "execution_count": 1,
   "metadata": {},
   "outputs": [],
   "source": [
    "import numpy as np\n",
    "import networkx as nx\n",
    "rng = np.random.default_rng(1)"
   ]
  },
  {
   "cell_type": "code",
   "execution_count": 2,
   "metadata": {},
   "outputs": [],
   "source": [
    "def KL(p, q): # compute Kullback-Leibler divergence (d in paper). check edge cases.\n",
    "    if (p == 0 and q == 0) or (p == 1 and q == 1) or p == 0:\n",
    "        return 0\n",
    "    elif q == 0 or q == 1:\n",
    "        return np.inf\n",
    "    else:\n",
    "        return p*np.log(p/q) + (1-p)*np.log((1-p)/(1-q))\n",
    "\n",
    "def dKL(p, q): # derivative of KL wrt q, p is constant\n",
    "    result = (p-q)/(q*(q - 1.0))\n",
    "    return result\n",
    "\n",
    "def newton(N, z, k, t, Q, precision = 1e-3, max_iterations = 500, epsilon=1e-12):\n",
    "    p = z # from paper\n",
    "    q = p + 0.1 # initial guess?\n",
    "    converged = False\n",
    "\n",
    "    for n in range(max_iterations):\n",
    "        f = KL(p, q) - Q/N # rearrange upper confidence bound eqn\n",
    "        df = dKL(p, q) # derivative of f is just derivative of KL\n",
    "        \n",
    "        if abs(df) < epsilon: # check denominator is not too small\n",
    "            break\n",
    "        \n",
    "        qnew = q - f / df\n",
    "        if(abs(qnew - q) < precision): # check for early convergence\n",
    "            converged = True\n",
    "            break\n",
    "        q = qnew\n",
    "\n",
    "    return q"
   ]
  },
  {
   "cell_type": "code",
   "execution_count": 3,
   "metadata": {},
   "outputs": [],
   "source": [
    "rwd_means = [.2, .3, .4, .5, .6]\n",
    "T = 1000\n",
    "N = 5 # agents\n",
    "M = 5 # arms\n",
    "n = np.ones((N,M,T))\n",
    "m = np.ones((N,M,T))\n",
    "z = np.zeros((N,M,T))\n",
    "x = np.zeros((N,M,T))\n",
    "\n",
    "G = nx.fast_gnp_random_graph(N, 0.5,directed=False) # undirected\n",
    "while not nx.is_connected(G):\n",
    "    G = nx.fast_gnp_random_graph(N, 0.5,directed=False)\n",
    "nodes = list(G.nodes)\n",
    "for i in nodes:\n",
    "    G.add_edge(i,i)\n",
    "A = nx.adjacency_matrix(G)\n",
    "a = A.toarray() # make adjacency matrix an array for ease of use\n",
    "neighbors = [] # list of all agents' neighbors\n",
    "for i in range(len(a)):\n",
    "    curr_neighbors = [] # neighbors of current agent\n",
    "    for j in range(len(a)):\n",
    "        if a[j][i] == 1:\n",
    "            curr_neighbors.append(j)\n",
    "    neighbors.append(curr_neighbors)\n",
    "num_neighbors = [sum(A.toarray()[:,i]) for i in range(N)] # get cardinality of neighbors for each agent"
   ]
  },
  {
   "cell_type": "code",
   "execution_count": 4,
   "metadata": {},
   "outputs": [
    {
     "name": "stderr",
     "output_type": "stream",
     "text": [
      "C:\\Users\\ethan\\Anaconda3\\lib\\site-packages\\ipykernel_launcher.py:2: RuntimeWarning: divide by zero encountered in log\n",
      "  \n",
      "C:\\Users\\ethan\\Anaconda3\\lib\\site-packages\\ipykernel_launcher.py:2: RuntimeWarning: invalid value encountered in log\n",
      "  \n",
      "C:\\Users\\ethan\\Anaconda3\\lib\\site-packages\\ipykernel_launcher.py:7: RuntimeWarning: divide by zero encountered in log\n",
      "  import sys\n",
      "C:\\Users\\ethan\\Anaconda3\\lib\\site-packages\\ipykernel_launcher.py:19: RuntimeWarning: invalid value encountered in double_scalars\n",
      "C:\\Users\\ethan\\Anaconda3\\lib\\site-packages\\ipykernel_launcher.py:10: RuntimeWarning: invalid value encountered in double_scalars\n",
      "  # Remove the CWD from sys.path while we load stuff.\n",
      "C:\\Users\\ethan\\Anaconda3\\lib\\site-packages\\ipykernel_launcher.py:7: RuntimeWarning: invalid value encountered in log\n",
      "  import sys\n"
     ]
    }
   ],
   "source": [
    "def Q(t, sigma, Ni):\n",
    "    return 3*(1+sigma)*(np.log(t) + 3*np.log(np.log(t)))/(2*Ni)\n",
    "\n",
    "def w(i, j):\n",
    "    if i == j:\n",
    "        sumval = 0\n",
    "        for neighbor in neighbors[i]:\n",
    "            sumval += 1/(max(num_neighbors[i], num_neighbors[neighbor]))\n",
    "        return 1 - sumval\n",
    "    else:\n",
    "        return 1/(max(num_neighbors[i], num_neighbors[j]))\n",
    "\n",
    "for agent in range(N):\n",
    "    for arm in range(M):\n",
    "        val = rng.uniform(rwd_means[arm]-.1, rwd_means[arm]+.1)\n",
    "        z[agent, arm, 0] = val\n",
    "        x[agent, arm, 0] = val\n",
    "\n",
    "for t in range(T-1):\n",
    "    for agent in range(N):\n",
    "        A = set()\n",
    "        for k in range(M):\n",
    "            if n[agent, k, t] <= m[agent, k, t] - M:\n",
    "                A.add(k)\n",
    "        if len(A) == 0:\n",
    "            a = np.argmax([newton(n[agent, arm, t], z[agent, arm, t], arm, t, Q(t, 1, num_neighbors[agent])) for arm in range(M)])\n",
    "        else:\n",
    "            a = rng.choice(tuple(A))\n",
    "        rwd = rng.uniform(rwd_means[a]-.1, rwd_means[a]+.1)\n",
    "        for arm in range(M):\n",
    "            if arm == a:\n",
    "                n[agent, arm, t+1] = n[agent, arm, t] + 1\n",
    "            else:\n",
    "                n[agent, arm, t+1] = n[agent, arm, t]\n",
    "            x[agent, arm, t+1] = (1/n[agent, arm, t+1])*(np.sum(x[agent, arm, :]) + rwd)\n",
    "            z[agent, arm, t+1] = np.sum([w(agent, j) * z[j, arm, t] for j in neighbors[agent]]) + x[agent, arm, t+1] - x[agent, arm, t]\n",
    "            m[agent, arm, t+1] = max(n[agent, arm, t+1], *[m[j, arm, t] for j in neighbors[agent]])\n",
    "                "
   ]
  },
  {
   "cell_type": "code",
   "execution_count": 5,
   "metadata": {},
   "outputs": [
    {
     "data": {
      "text/plain": [
       "array([[[  1.,   2.,   3., ..., 453., 454., 454.],\n",
       "        [  1.,   1.,   1., ..., 506., 506., 507.],\n",
       "        [  1.,   1.,   1., ...,  17.,  17.,  17.],\n",
       "        [  1.,   1.,   1., ...,  17.,  17.,  17.],\n",
       "        [  1.,   1.,   1., ...,  21.,  21.,  21.]],\n",
       "\n",
       "       [[  1.,   2.,   3., ..., 454., 454., 455.],\n",
       "        [  1.,   1.,   1., ..., 505., 506., 506.],\n",
       "        [  1.,   1.,   1., ...,  17.,  17.,  17.],\n",
       "        [  1.,   1.,   1., ...,  17.,  17.,  17.],\n",
       "        [  1.,   1.,   1., ...,  21.,  21.,  21.]],\n",
       "\n",
       "       [[  1.,   2.,   3., ..., 454., 454., 455.],\n",
       "        [  1.,   1.,   1., ..., 506., 507., 507.],\n",
       "        [  1.,   1.,   1., ...,  17.,  17.,  17.],\n",
       "        [  1.,   1.,   1., ...,  17.,  17.,  17.],\n",
       "        [  1.,   1.,   1., ...,  21.,  21.,  21.]],\n",
       "\n",
       "       [[  1.,   2.,   3., ..., 454., 455., 455.],\n",
       "        [  1.,   1.,   1., ..., 506., 506., 507.],\n",
       "        [  1.,   1.,   1., ...,  17.,  17.,  17.],\n",
       "        [  1.,   1.,   1., ...,  17.,  17.,  17.],\n",
       "        [  1.,   1.,   1., ...,  21.,  21.,  21.]],\n",
       "\n",
       "       [[  1.,   2.,   3., ..., 454., 454., 455.],\n",
       "        [  1.,   1.,   1., ..., 505., 506., 506.],\n",
       "        [  1.,   1.,   1., ...,  17.,  17.,  17.],\n",
       "        [  1.,   1.,   1., ...,  17.,  17.,  17.],\n",
       "        [  1.,   1.,   1., ...,  21.,  21.,  21.]]])"
      ]
     },
     "execution_count": 5,
     "metadata": {},
     "output_type": "execute_result"
    }
   ],
   "source": [
    "m"
   ]
  },
  {
   "cell_type": "code",
   "execution_count": null,
   "metadata": {},
   "outputs": [],
   "source": []
  }
 ],
 "metadata": {
  "kernelspec": {
   "display_name": "Python 3",
   "language": "python",
   "name": "python3"
  },
  "language_info": {
   "codemirror_mode": {
    "name": "ipython",
    "version": 3
   },
   "file_extension": ".py",
   "mimetype": "text/x-python",
   "name": "python",
   "nbconvert_exporter": "python",
   "pygments_lexer": "ipython3",
   "version": "3.7.4"
  }
 },
 "nbformat": 4,
 "nbformat_minor": 2
}
