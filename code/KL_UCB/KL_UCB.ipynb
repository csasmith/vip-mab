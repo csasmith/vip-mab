{
 "cells": [
  {
   "cell_type": "code",
   "execution_count": 8,
   "metadata": {},
   "outputs": [],
   "source": [
    "import numpy as np\n",
    "rng = np.random.default_rng(1)\n",
    "import scipy.stats as sps\n",
    "import matplotlib.pyplot as plt"
   ]
  },
  {
   "cell_type": "code",
   "execution_count": 9,
   "metadata": {},
   "outputs": [],
   "source": [
    "def KL(p, q): # compute Kullback-Leibler divergence (d in paper). check edge cases.\n",
    "    if (p == 0 and q == 0) or (p == 1 and q == 1) or p == 0:\n",
    "        return 0\n",
    "    elif q == 0 or q == 1:\n",
    "        return np.inf\n",
    "    else:\n",
    "        return p*np.log(p/q) + (1-p)*np.log((1-p)/(1-q))"
   ]
  },
  {
   "cell_type": "code",
   "execution_count": 10,
   "metadata": {},
   "outputs": [],
   "source": [
    "def dKL(p, q): # derivative of KL wrt q, p is constant\n",
    "    result = (p-q)/(q*(q - 1.0))\n",
    "    return result"
   ]
  },
  {
   "cell_type": "code",
   "execution_count": 11,
   "metadata": {},
   "outputs": [],
   "source": [
    "def newton(N, S, k, t, precision = 1e-3, max_iterations = 100, epsilon=1e-12):\n",
    "    ''' Calculate upper confidence bound via newton's method \n",
    "    \n",
    "        WARNING: This function works in that it efficiently finds greatest approx zero to f in (0,1).\n",
    "        However, KL-UCB technically specifies that the returned value of q should be such that \n",
    "        f(q) <= 0. The q's returned by this function seemingly always satisfy f(q)>=0.\n",
    "        Enforcing f(q) <= 0 does not work (times out) because f(q) converges to 0 from the right.\n",
    "        If this is unacceptable, maybe look into other root finding methods like bisection.\n",
    "    ''' \n",
    "    \n",
    "    p = S[k]/N[k] # from paper\n",
    "    delta = 0.1 # arbitrary small positive offset\n",
    "    q = p + delta # initial guess. if p==q, then dKL=0 and we never move anywhere\n",
    "    converged = False\n",
    "    \n",
    "    for n in range(max_iterations):\n",
    "        if (p / q <= 0 or (1-p)/(1-q) <= 0): # sanity check for log domain errors\n",
    "            print(f'log error: p={p}, q={q}, n={n}')\n",
    "        # wish to find greatest val of q in (0,1) that gets f closest to zero from below\n",
    "        f = KL(p, q) - np.log(t)/N[k]\n",
    "        df = dKL(p, q) # derivative of f is just derivative of KL\n",
    "        \n",
    "        if abs(df) < epsilon: # check denominator not too small\n",
    "            break \n",
    "        \n",
    "        # NOTE: graph KL function to see that largest zero (what we want) is >= p.\n",
    "        qnew = max(p+delta, min(q - (f / df), 1-epsilon)) # chris: my approach for keeping q in (p,1)\n",
    "        # print(f'q={q}, f(q)={f}, qnew={qnew}, precision={precision} n={n}')\n",
    "        if(abs(f) < precision and abs(qnew - q) < precision): # check for early convergence\n",
    "            converged = True\n",
    "            # print(f'converged at {n} iterations')\n",
    "            break\n",
    "        q = qnew\n",
    "        \n",
    "    # if(converged == False):\n",
    "    #     print(\"Did not converge\")\n",
    "\n",
    "    return q"
   ]
  },
  {
   "cell_type": "code",
   "execution_count": 12,
   "metadata": {},
   "outputs": [],
   "source": [
    "def KL_UCB(T, K, rwd_means):\n",
    "    N = np.zeros(K) # keeps track of number of times arm k has been chosen\n",
    "    S = np.zeros(K) # keeps track of cumulative sum of rewards for arm k\n",
    "    # data structures just for plotting regret\n",
    "    optimal_arm = np.argmax(rwd_means)\n",
    "    exp_cum_rwd = [0 for t in range(T)] # exp_cum_rwd[t] is expected cumulative reward at time t\n",
    "    for t in range(K):\n",
    "        N[t] = 1\n",
    "        S[t] = rng.uniform(rwd_means[t]-.1, rwd_means[t]+.1) # Use uniform distribution for simplicity\n",
    "        exp_cum_rwd[t] = exp_cum_rwd[t-1] + rwd_means[t] if t != 0 else rwd_means[t] # t is index of chosen arm here\n",
    "    for t in range(K,T):\n",
    "        a = np.argmax([newton(N, S, arm, t) for arm in range(K)]) #argmax part of line 6 of algorithm 1\n",
    "        r = rng.uniform(rwd_means[a]-.1, rwd_means[a]+.1)\n",
    "        N[a] = N[a] + 1\n",
    "        S[a] = S[a] + r\n",
    "        exp_cum_rwd[t] = exp_cum_rwd[t-1] + rwd_means[a]\n",
    "    optimal_exp_cum_rwd = [(t+1) * rwd_means[optimal_arm] for t in range(T)]\n",
    "    regret = np.asarray(optimal_exp_cum_rwd) - np.asarray(exp_cum_rwd) # see definition of regret\n",
    "    return regret"
   ]
  },
  {
   "cell_type": "code",
   "execution_count": 13,
   "metadata": {},
   "outputs": [],
   "source": [
    "# run\n",
    "K = 5\n",
    "T = 1000\n",
    "rwd_means = [.2, .3, .4, .5, .6]\n",
    "optimal_arm = np.argmax(rwd_means)\n",
    "regret = KL_UCB(T, 5, rwd_means)"
   ]
  },
  {
   "cell_type": "code",
   "execution_count": 14,
   "metadata": {
    "scrolled": false
   },
   "outputs": [
    {
     "name": "stderr",
     "output_type": "stream",
     "text": [
      "/var/folders/16/hk9qdzp172nbtb7pj39vw7ww0000gn/T/ipykernel_95504/535199166.py:7: RuntimeWarning: divide by zero encountered in log\n",
      "  theoretical_regret_bounds = [coeff * np.log(t) for t in time_axis] # not sure if allowed to do this bc of lim sup, seems like it works tho\n"
     ]
    },
    {
     "data": {
      "text/plain": [
       "[<matplotlib.lines.Line2D at 0x11fc95070>]"
      ]
     },
     "execution_count": 14,
     "metadata": {},
     "output_type": "execute_result"
    },
    {
     "data": {
      "image/png": "[encoded data removed]",
      "text/plain": [
       "<Figure size 432x288 with 1 Axes>"
      ]
     },
     "metadata": {
      "needs_background": "light"
     },
     "output_type": "display_data"
    }
   ],
   "source": [
    "# plotting\n",
    "time_axis = list(range(T))\n",
    "# plot theoretical regret bounds\n",
    "coeff = 0\n",
    "for i in range(K):\n",
    "    if (i != optimal_arm): coeff += (rwd_means[optimal_arm] - rwd_means[i]) / (KL(rwd_means[i], rwd_means[optimal_arm]))\n",
    "theoretical_regret_bounds = [coeff * np.log(t) for t in time_axis] # not sure if allowed to do this bc of lim sup, seems like it works tho\n",
    "plt.plot(time_axis, theoretical_regret_bounds, '--')\n",
    "plt.plot(time_axis, regret)"
   ]
  }
 ],
 "metadata": {
  "interpreter": {
   "hash": "b0fa6594d8f4cbf19f97940f81e996739fb7646882a419484c72d19e05852a7e"
  },
  "kernelspec": {
   "display_name": "Python 3.9.10 64-bit",
   "language": "python",
   "name": "python3"
  },
  "language_info": {
   "codemirror_mode": {
    "name": "ipython",
    "version": 3
   },
   "file_extension": ".py",
   "mimetype": "text/x-python",
   "name": "python",
   "nbconvert_exporter": "python",
   "pygments_lexer": "ipython3",
   "version": "3.9.10"
  }
 },
 "nbformat": 4,
 "nbformat_minor": 2
}
