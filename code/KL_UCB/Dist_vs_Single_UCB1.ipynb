{
 "cells": [
  {
   "cell_type": "code",
   "execution_count": null,
   "metadata": {},
   "outputs": [],
   "source": [
    "import numpy as np\n",
    "import matplotlib.pyplot as plt\n",
    "import scipy.stats as sps\n",
    "import networkx as nx\n",
    "from Dist_UCB1 import Dist_UCB1\n",
    "from UCB1 import UCB1\n",
    "\n",
    "n_runs = 10\n",
    "T = 5000\n",
    "N = 20\n",
    "rwd_means = [.2, .25, .3, .35, .4, .45, .5, .55, .6, .65]\n",
    "kl_distributions = [sps.beta(rwd_means[i], rwd_means[i]+1) for i in range(len(rwd_means))]\n",
    "distributions = [[sps.beta(rwd_means[i], rwd_means[i]+1) for i in range(len(rwd_means))] for n in range(N)]\n",
    "betas = [1, .1, .01]"
   ]
  },
  {
   "cell_type": "code",
   "execution_count": null,
   "metadata": {},
   "outputs": [],
   "source": [
    "mean_regrets_dist_ucb1 = np.zeros((n_runs, len(betas), T))\n",
    "regrets_ucb1 = np.zeros((n_runs, T))\n",
    "for run in range(n_runs):\n",
    "    print(f'starting run {run}')\n",
    "    G = nx.fast_gnp_random_graph(N, 0.5, directed=False)\n",
    "    while not nx.is_connected(G):\n",
    "        G = nx.fast_gnp_random_graph(N, 0.5, directed=False)\n",
    "    nodes = list(G.nodes)\n",
    "    for i in nodes:\n",
    "        G.add_edge(i,i) \n",
    "    for b in range(len(betas)):\n",
    "        distucb1 = Dist_UCB1(T, distributions, G, beta=betas[b])\n",
    "        distucb1.run()\n",
    "        mean_regrets_dist_ucb1[run, b, :] = np.mean(distucb1.regrets, axis=0)\n",
    "\n",
    "    ucb1 = UCB1(T, kl_distributions)\n",
    "    ucb1.run()\n",
    "    regrets_ucb1[run, :] = ucb1.regret\n",
    "\n",
    "time_axis = list(range(T))\n",
    "mean_regrets_over_all_runs_dist_ucb1 = np.mean(mean_regrets_dist_ucb1, axis=0)\n",
    "mean_regrets_over_all_runs_ucb1 = np.mean(regrets_ucb1, axis=0)\n",
    "std_regrets_over_all_runs_dist_ucb1 = np.std(mean_regrets_dist_ucb1, axis=0)\n",
    "std_regrets_over_all_runs_ucb1 = np.std(regrets_ucb1, axis=0)"
   ]
  },
  {
   "cell_type": "code",
   "execution_count": null,
   "metadata": {},
   "outputs": [],
   "source": [
    "plt.figure(figsize=(8,5))\n",
    "linestyles = ['-.', '-', '--']\n",
    "for b in range(len(betas)):\n",
    "    plt.plot(time_axis, mean_regrets_over_all_runs_dist_ucb1[b], linestyles[b], label=r\"$\\beta=$\" + str(betas[b]))\n",
    "    plt.fill_between(time_axis, mean_regrets_over_all_runs_dist_ucb1[b]-std_regrets_over_all_runs_dist_ucb1[b], mean_regrets_over_all_runs_dist_ucb1[b]+std_regrets_over_all_runs_dist_ucb1[b],alpha=.2)\n",
    "plt.plot(time_axis, mean_regrets_over_all_runs_ucb1, ':', label=\"Single Agent UCB1\")\n",
    "plt.fill_between(time_axis, mean_regrets_over_all_runs_ucb1-std_regrets_over_all_runs_ucb1, mean_regrets_over_all_runs_ucb1+std_regrets_over_all_runs_ucb1, alpha=.2)\n",
    "plt.xlabel(\"Time\")\n",
    "plt.ylabel(\"Regret\")\n",
    "plt.legend()\n",
    "plt.grid()\n",
    "plt.savefig(\"./out/dist_UCB_vs_single_UCB.pdf\", bbox_inches='tight')"
   ]
  }
 ],
 "metadata": {
  "interpreter": {
   "hash": "b0fa6594d8f4cbf19f97940f81e996739fb7646882a419484c72d19e05852a7e"
  },
  "kernelspec": {
   "display_name": "Python 3.9.10 64-bit",
   "language": "python",
   "name": "python3"
  },
  "language_info": {
   "codemirror_mode": {
    "name": "ipython",
    "version": 3
   },
   "file_extension": ".py",
   "mimetype": "text/x-python",
   "name": "python",
   "nbconvert_exporter": "python",
   "pygments_lexer": "ipython3",
   "version": "3.9.10"
  },
  "orig_nbformat": 4
 },
 "nbformat": 4,
 "nbformat_minor": 2
}
