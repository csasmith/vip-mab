{
 "cells": [
  {
   "cell_type": "code",
   "execution_count": null,
   "metadata": {},
   "outputs": [],
   "source": [
    "import numpy as np\n",
    "import matplotlib.pyplot as plt\n",
    "import matplotlib.style as style\n",
    "style.use('seaborn-colorblind')\n",
    "import scipy.stats as sps\n",
    "import networkx as nx\n",
    "import time\n",
    "from Dist_UCB1_Small_Graphs import Dist_UCB1\n",
    "import os\n",
    "from multiprocess import Pool\n",
    "\n",
    "n_runs = 100\n",
    "T = 10000\n",
    "G1 = nx.complete_graph(6)\n",
    "G2 = nx.cycle_graph([6,7,8,9,10,11])\n",
    "G = nx.compose(G1,G2)\n",
    "N = G.number_of_nodes()\n",
    "\n",
    "nodes = list(G.nodes)\n",
    "for i in nodes:\n",
    "    G.add_edge(i,i)\n",
    "\n",
    "rwd_means = [.2, .3, .4, .5, .6]\n",
    "betas = [1, 1, 1, 0.01, 0.01, 0.01, 1, 1, 1, 0.01, 0.01, 0.01]\n",
    "seeds = [i for i in range(n_runs)]"
   ]
  },
  {
   "cell_type": "code",
   "execution_count": null,
   "metadata": {},
   "outputs": [],
   "source": [
    "def worker(job_runs, seeds, betas, T, N, G):\n",
    "    regrets_dist_ucb1 = np.zeros((len(job_runs), N, T))\n",
    "    for run in job_runs:\n",
    "        start_run_t = time.time()\n",
    "        \n",
    "        sd = 0.1\n",
    "        kl_distributions = [sps.truncnorm(a=(0-rwd_means[i])/sd, b=(1-rwd_means[i])/sd, loc=rwd_means[i], scale=sd) for i in range(len(rwd_means))]\n",
    "        for i in range(len(rwd_means)):\n",
    "            kl_distributions[i].random_state = np.random.RandomState(seed=seeds[run])\n",
    "        distributions = [[sps.truncnorm(a=(0-rwd_means[i])/sd, b=(1-rwd_means[i])/sd, loc=rwd_means[i], scale=sd) for i in range(len(rwd_means))] for n in range(N)]\n",
    "        for n in range(N):\n",
    "            for i in range(len(rwd_means)):\n",
    "                distributions[n][i].random_state = np.random.RandomState(seed=seeds[run])\n",
    "        \n",
    "        distucb1 = Dist_UCB1(T, distributions, G, beta=betas)\n",
    "        distucb1.run()\n",
    "        regrets_dist_ucb1[run-job_runs[0], :, :] = distucb1.regrets\n",
    "        \n",
    "        end_run_t = time.time()\n",
    "        print(f'finished run {run} in {end_run_t - start_run_t}sec')\n",
    "    return regrets_dist_ucb1"
   ]
  },
  {
   "cell_type": "code",
   "execution_count": null,
   "metadata": {},
   "outputs": [],
   "source": [
    "regrets_dist_ucb1 = np.zeros((n_runs, N, T))\n",
    "init_time = time.time()\n",
    "cpus = os.cpu_count()\n",
    "init_time = time.time()\n",
    "\n",
    "pool = Pool()\n",
    "jobs = list(range(n_runs))\n",
    "job_size = n_runs // cpus\n",
    "job_chunks = [(jobs[i:i + job_size], seeds, betas, T, N, G) for i in range(0, len(jobs), job_size)]\n",
    "results = pool.starmap(worker, job_chunks)\n",
    "pool.close()\n",
    "pool.join()\n",
    "regrets_dist_ucb1_unconcat = [result for result in results]\n",
    "np.concatenate(regrets_dist_ucb1_unconcat, out=regrets_dist_ucb1)\n",
    "\n",
    "end_run_t = time.time()\n",
    "\n",
    "time_axis = list(range(T))\n",
    "mean_regrets_over_all_runs_dist_ucb1 = np.mean(regrets_dist_ucb1, axis=0)\n",
    "std_regrets_over_all_runs_dist_ucb1 = np.std(regrets_dist_ucb1, axis=0)\n",
    "print(f'Total run time = {end_run_t - init_time}sec')"
   ]
  },
  {
   "cell_type": "code",
   "execution_count": null,
   "metadata": {},
   "outputs": [],
   "source": [
    "plt.figure(figsize=(10,5))\n",
    "\n",
    "avg_3_1_regret = np.mean(mean_regrets_over_all_runs_dist_ucb1[0:3], axis=0)\n",
    "avg_3_001_regret = np.mean(mean_regrets_over_all_runs_dist_ucb1[3:6], axis=0)\n",
    "avg_6_1_regret = np.mean(mean_regrets_over_all_runs_dist_ucb1[6:9], axis=0)\n",
    "avg_6_001_regret = np.mean(mean_regrets_over_all_runs_dist_ucb1[9:12], axis=0)\n",
    "std_3_1_regret = np.mean(std_regrets_over_all_runs_dist_ucb1[0:3], axis=0)\n",
    "std_3_001_regret = np.mean(std_regrets_over_all_runs_dist_ucb1[3:6], axis=0)\n",
    "std_6_1_regret = np.mean(std_regrets_over_all_runs_dist_ucb1[6:9], axis=0)\n",
    "std_6_001_regret = np.mean(std_regrets_over_all_runs_dist_ucb1[9:12], axis=0)\n",
    "\n",
    "plt.plot(time_axis, avg_3_1_regret, label=\"Group 1\")\n",
    "plt.fill_between(time_axis, avg_3_1_regret-std_3_1_regret, avg_3_1_regret+std_3_1_regret,alpha=.2)\n",
    "plt.plot(time_axis, avg_3_001_regret, label=\"Group 2\")\n",
    "plt.fill_between(time_axis, avg_3_001_regret-std_3_001_regret, avg_3_001_regret+std_3_001_regret,alpha=.2)\n",
    "plt.plot(time_axis, avg_6_1_regret, label=\"Group 3\")\n",
    "plt.fill_between(time_axis, avg_6_1_regret-std_6_1_regret, avg_6_1_regret+std_6_1_regret,alpha=.2)\n",
    "plt.plot(time_axis, avg_6_001_regret, label=\"Group 4\")\n",
    "plt.fill_between(time_axis, avg_6_001_regret-std_6_001_regret, avg_6_001_regret+std_6_001_regret,alpha=.2)\n",
    "plt.xlabel(\"Time\")\n",
    "plt.ylabel(\"Regret\")\n",
    "\n",
    "plt.legend()\n",
    "plt.grid()\n",
    "\n",
    "plt.savefig(\"dist_UCB1_small_graphs_together_N12.pdf\", bbox_inches='tight')"
   ]
  },
  {
   "cell_type": "code",
   "execution_count": null,
   "metadata": {},
   "outputs": [],
   "source": []
  }
 ],
 "metadata": {
  "interpreter": {
   "hash": "b0fa6594d8f4cbf19f97940f81e996739fb7646882a419484c72d19e05852a7e"
  },
  "kernelspec": {
   "display_name": "Python 3 (ipykernel)",
   "language": "python",
   "name": "python3"
  },
  "language_info": {
   "codemirror_mode": {
    "name": "ipython",
    "version": 3
   },
   "file_extension": ".py",
   "mimetype": "text/x-python",
   "name": "python",
   "nbconvert_exporter": "python",
   "pygments_lexer": "ipython3",
   "version": "3.8.11"
  }
 },
 "nbformat": 4,
 "nbformat_minor": 2
}
