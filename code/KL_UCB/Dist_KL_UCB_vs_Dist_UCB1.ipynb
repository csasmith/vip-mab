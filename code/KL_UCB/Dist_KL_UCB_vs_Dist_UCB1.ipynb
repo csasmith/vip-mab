{
 "cells": [
  {
   "cell_type": "code",
   "execution_count": 18,
   "metadata": {},
   "outputs": [],
   "source": [
    "import numpy as np\n",
    "import matplotlib.pyplot as plt\n",
    "import matplotlib.style as style\n",
    "style.use('tableau-colorblind10')\n",
    "import scipy.stats as sps\n",
    "import networkx as nx\n",
    "import time\n",
    "from numpy.random import Generator, PCG64\n",
    "from Dist_KL_UCB import Dist_KL_UCB\n",
    "from Dist_UCB1 import Dist_UCB1\n",
    "\n",
    "n_runs = 100\n",
    "T = 10000\n",
    "N = 30\n",
    "rwd_means = [.2, .25, .3, .35, .4, .45, .5, .55, .6, .65]\n",
    "\n",
    "seeds = []\n",
    "myseed = 0\n",
    "while len(seeds) < n_runs:\n",
    "    G = nx.fast_gnp_random_graph(N, 0.5, directed=False, seed=myseed)\n",
    "    if nx.is_connected(G):\n",
    "        seeds.append(myseed)\n",
    "    myseed += 1\n",
    "    \n",
    "distributions = [[sps.beta(rwd_means[i], 1-rwd_means[i]) for i in range(len(rwd_means))] for n in range(N)]\n",
    "for n in range(N):\n",
    "    for i in range(len(rwd_means)):\n",
    "        distributions[n][i].random_state = np.random.RandomState(seed=1)\n",
    "sigmas = [1, .1, .01]"
   ]
  },
  {
   "cell_type": "code",
   "execution_count": null,
   "metadata": {},
   "outputs": [],
   "source": [
    "mean_regrets_dist_kl_ucb = np.zeros((n_runs, len(sigmas), T))\n",
    "mean_regrets_dist_ucb1 = np.zeros((n_runs, len(sigmas), T))\n",
    "init_time = time.time()\n",
    "for run in range(n_runs):\n",
    "    start_run_t = time.time()\n",
    "    G = nx.fast_gnp_random_graph(N, 0.5, directed=False, seed=seeds[run])\n",
    "    nodes = list(G.nodes)\n",
    "    for i in nodes:\n",
    "        G.add_edge(i,i) \n",
    "    for sig in range(len(sigmas)):\n",
    "        distkl = Dist_KL_UCB(T, distributions, G, sigma=sigmas[sig])\n",
    "        distkl.run()\n",
    "        mean_regrets_dist_kl_ucb[run, sig, :] = np.mean(distkl.regrets, axis=0)\n",
    "        distucb1 = Dist_UCB1(T, distributions, G, beta=sigmas[sig])\n",
    "        distucb1.run()\n",
    "        mean_regrets_dist_ucb1[run, sig, :] = np.mean(distucb1.regrets, axis=0)\n",
    "    end_run_t = time.time()\n",
    "    print(f'finished run {run} in {end_run_t - start_run_t}sec')\n",
    "\n",
    "time_axis = list(range(distkl.T))\n",
    "mean_regrets_over_all_runs_dist_kl_ucb = np.mean(mean_regrets_dist_kl_ucb, axis=0)\n",
    "std_regrets_over_all_runs_dist_kl_ucb = np.std(mean_regrets_dist_kl_ucb, axis=0)\n",
    "mean_regrets_over_all_runs_dist_ucb1 = np.mean(mean_regrets_dist_ucb1, axis=0)\n",
    "std_regrets_over_all_runs_dist_ucb1 = np.std(mean_regrets_dist_ucb1, axis=0)\n",
    "print(f'Total run time = {end_run_t - init_time}sec')"
   ]
  },
  {
   "cell_type": "code",
   "execution_count": null,
   "metadata": {},
   "outputs": [],
   "source": [
    "linestyles = ['-.', '-', '--']\n",
    "for sig in range(len(sigmas)):\n",
    "    plt.plot(time_axis, mean_regrets_over_all_runs_dist_kl_ucb[sig], linestyles[sig], label=r\"$\\varsigma=$\" + str(sigmas[sig]))\n",
    "    plt.fill_between(time_axis, mean_regrets_over_all_runs_dist_kl_ucb[sig]-std_regrets_over_all_runs_dist_kl_ucb[sig], mean_regrets_over_all_runs_dist_kl_ucb[sig]+std_regrets_over_all_runs_dist_kl_ucb[sig],alpha=.2)\n",
    "for sig in range(len(sigmas)):    \n",
    "    plt.plot(time_axis, mean_regrets_over_all_runs_dist_ucb1[sig], linestyles[sig], label=r\"$\\beta=$\" + str(sigmas[sig]))\n",
    "    plt.fill_between(time_axis, mean_regrets_over_all_runs_dist_ucb1[sig]-std_regrets_over_all_runs_dist_ucb1[sig], mean_regrets_over_all_runs_dist_ucb1[sig]+std_regrets_over_all_runs_dist_ucb1[sig],alpha=.2)\n",
    "plt.xlabel(\"Time\")\n",
    "plt.ylabel(\"Regret\")\n",
    "plt.legend()\n",
    "plt.grid()\n",
    "plt.savefig(\"./.out/dist_KL_vs_dist_UCB1.pdf\", bbox_inches='tight')"
   ]
  },
  {
   "cell_type": "code",
   "execution_count": null,
   "metadata": {},
   "outputs": [],
   "source": []
  }
 ],
 "metadata": {
  "kernelspec": {
   "display_name": "Python 3",
   "language": "python",
   "name": "python3"
  },
  "language_info": {
   "codemirror_mode": {
    "name": "ipython",
    "version": 3
   },
   "file_extension": ".py",
   "mimetype": "text/x-python",
   "name": "python",
   "nbconvert_exporter": "python",
   "pygments_lexer": "ipython3",
   "version": "3.7.4"
  }
 },
 "nbformat": 4,
 "nbformat_minor": 2
}
